{
 "cells": [
  {
   "attachments": {
    "markdown_refs_NSSPkey.png": {
     "image/png": "[encoded data removed]"
    }
   },
   "cell_type": "markdown",
   "metadata": {},
   "source": [
    "# Format NSSP Priority List\n",
    "\n",
    "###  Files:\n",
    "\n",
    " \n",
    " <u>Input File(s):</u>     \n",
    "<ul>\n",
    "    <li> NSSP_Priority_Elements_copy.csv </li> \n",
    "</ul>\n",
    "\n",
    " <u>Output File(s):</u>\n",
    "\n",
    "<ul>\n",
    "    <li> <i> column_guide_with_key.csv  </i> </li>\n",
    "</ul>\n",
    "\n",
    "### Description:\n",
    "\n",
    "We want to take the NSSP_Priority_Elements file and add columns to it that more precisely describe where exactly we need to look in a message to find an element.  Examine the following example:\n",
    "\n",
    "\n",
    "![markdown_refs_NSSPkey.png](attachment:markdown_refs_NSSPkey.png)\n",
    "\n",
    "The <b>Message_Date_Time</b> has a location of MSH.7.1.  Using the Python Library HL7, we can use the following code to calculate the value of <b>Message_Date_Time</b>.  "
   ]
  },
  {
   "cell_type": "raw",
   "metadata": {},
   "source": [
    "Message_Date_Time = Message['MSH'][7][0][1][0]"
   ]
  },
  {
   "cell_type": "markdown",
   "metadata": {},
   "source": [
    "Note that the extra padding 0s are just a result of the library's output.  Great!  We were able to get <b>Message_Date_Time</b>. \n",
    "\n",
    "Now when we look at <b>C_Patient_Age_Years</b>, the location is 'OBX-2,OBX-3,OBX-5'.  Even though it seems to have a similar format: \n",
    "\n",
    "ABC (some separator) #\n",
    "\n",
    "it means something very different.  It is actually the combination of OBX#.2 , OBX#.3 , OBX#.5 where # is some unknown number.  \n",
    "\n",
    "----------------------------\n",
    "\n",
    "By parsing through these HL7 descriptions, we can create additional columns that can be interpreted in Python the same way that we are able to interpret the text in our heads."
   ]
  },
  {
   "cell_type": "code",
   "execution_count": 1,
   "metadata": {},
   "outputs": [],
   "source": [
    "##########################################################################################################\n",
    "# Import Libraries\n",
    "##########################################################################################################\n",
    "\n",
    "# Import[ant] libaries @('_')@\n",
    "\n",
    "import pandas as pd\n",
    "import numpy as np\n",
    "import os\n",
    "\n",
    "##########################################################################################################\n",
    "# Import NSSP_Priority_Element_copy and format it to our liking\n",
    "##########################################################################################################\n",
    "\n",
    "# Change working directory\n",
    "os.chdir('../data/raw/')\n",
    "\n",
    "# Import nssp_priority csv file, drop NAs, clean up \n",
    "nssp_priority = pd.read_csv('NSSP_Priority_Elements_copy.csv',usecols=[0,1,2,3,4])\n",
    "\n",
    "# get rid of all rows with NA\n",
    "nssp_priority.dropna(inplace=True)\n",
    "\n",
    "# remove spaces, new lines, replace - with . and $ with ,\n",
    "nssp_priority['HL7'] = nssp_priority['HL7'].str.replace(' ','').str.replace('\\\\n','').str.replace('-','.')\n",
    "nssp_priority['HL7'] = nssp_priority['HL7'].str.replace('$',',')\n",
    "\n",
    "##########################################################################################################\n",
    "# Parse the existing 'HL7' column into subcomponents that will form new columns\n",
    "##########################################################################################################\n",
    "\n",
    "# Create empty column names to eventually fill in\n",
    "nssp_priority['Seg0'] = np.nan\n",
    "nssp_priority['0_0'] = np.nan\n",
    "nssp_priority['0_1'] = np.nan\n",
    "nssp_priority['0_2'] = np.nan\n",
    "\n",
    "nssp_priority['Seg1'] = np.nan\n",
    "nssp_priority['1_0'] = np.nan\n",
    "\n",
    "# Split any HL7 locations on the word 'or'\n",
    "split_or = nssp_priority['HL7'].str.split('or',expand=True)\n",
    "\n",
    "# Divide into segment name & number indeces\n",
    "seg_or0 = split_or[0].str[:3]\n",
    "nums_or0 = split_or[0].str[4:]\n",
    "\n",
    "seg_or1 = split_or[1].str[:3]\n",
    "nums_or1 = split_or[1].str[4:]\n",
    "\n",
    "# Split Further into ',' sections.  Should be a max of 3\n",
    "nums_or0_split = nums_or0.str.split(',',expand=True)\n",
    "\n",
    "##########################################################################################################\n",
    "# Assign new lists to dataframe as new columns\n",
    "##########################################################################################################\n",
    "\n",
    "# Begin assigning lists to dataframe columns.  Manual for Type and Key (see markdown for more info)\n",
    "nssp_priority.loc[:,'Seg0'] = seg_or0\n",
    "nssp_priority.loc[:,'0_0'] = nums_or0_split[0]\n",
    "nssp_priority.loc[:,'0_1'] = nums_or0_split[1]\n",
    "nssp_priority.loc[:,'0_2'] = nums_or0_split[2]\n",
    "\n",
    "nssp_priority.loc[:,'Seg1'] = seg_or1\n",
    "nssp_priority.loc[:,'1_0'] = nums_or1\n",
    "\n",
    "# Manually enter type and keywords\n",
    "\n",
    "nssp_priority['Keywords'] = np.nan\n",
    "nssp_priority['Type'] = np.nan\n",
    "\n",
    "\n",
    "nssp_priority.loc[:,'Type'] = [0, 0, 1, 0, 0, 0, 0, 0, 0, 0, 1, 0, 0, 0, 0, 1, 0, 0, 0, 0, 1, 2, 1, 0, 0, 0, 0, 0, 1, 0, 2, 0, 0, 0, 0,\n",
    "         1, 0, 0, 0, 0, 0, 0]\n",
    "\n",
    "nssp_priority.loc[:,'Keywords'] = [np.nan, np.nan, 'SS003|Facility.Type', np.nan, np.nan, np.nan, np.nan, np.nan, np.nan, np.nan,\n",
    "        '8661-1|Chief.?Complaint', np.nan, np.nan, np.nan, np.nan, 'SS003|Facility.Type', np.nan, np.nan,\n",
    "        np.nan, np.nan, '21612-7|Patient\\\\W?Age', 'age.*(years?)|age.*(months?)|age.*(days?)',\n",
    "        '21612-7|Patient\\\\W?Age', np.nan, np.nan, np.nan, np.nan, np.nan, '21612-7|Patient\\\\W?Age',\n",
    "        np.nan, 'age.*(years?)|age.*(months?)|age.*(days?)', np.nan, np.nan, np.nan, np.nan,\n",
    "        '8661-1|Chief.?Complaint', np.nan, np.nan, np.nan, '8661-1|Chief.?Complaint', np.nan, np.nan]\n",
    "\n",
    "##########################################################################################################\n",
    "# Send to CSV\n",
    "##########################################################################################################\n",
    "\n",
    "nssp_priority.to_csv('../processed/column_guide_with_key.csv',index=False)"
   ]
  },
  {
   "attachments": {
    "markdown_refs_NSSPkey2.png": {
     "image/png": "[encoded data removed]"
    }
   },
   "cell_type": "markdown",
   "metadata": {},
   "source": [
    "The output with visible headers looks like this (with more rows):\n",
    "\n",
    "![markdown_refs_NSSPkey2.png](attachment:markdown_refs_NSSPkey2.png)"
   ]
  },
  {
   "cell_type": "markdown",
   "metadata": {},
   "source": [
    "#### Note on Keywords & Type\n",
    "\n",
    "If you noticed in the code, I manually created lists to describe the Processed Column's <b>Keywords</b> and <b>Type</b>. \n",
    "\n",
    "For the OBX sections, we need to loop through all OBX[1] -> OBX[n] fields to search for the specific element we are looking for.  We use Regular Expressions to do this.  The expression searches a field for specific key indicators (keywords) related to the desired element.  That is why all OBX rows have a non-null value in the <b>Keywords</b> column\n",
    "\n",
    "To indicate that a certain row is an OBX row and therefore requires RegEx, we assign it a <b>Type</b> value of 1.  Otherwise it is 0.  \n",
    "\n",
    "* For the very specific instance where we look for age units, we have a special RegEx search utilizing RegEx groups.  It is the only row assigned a <b>Type</b> of 2."
   ]
  },
  {
   "cell_type": "code",
   "execution_count": null,
   "metadata": {},
   "outputs": [],
   "source": []
  }
 ],
 "metadata": {
  "kernelspec": {
   "display_name": "Python 3",
   "language": "python",
   "name": "python3"
  },
  "language_info": {
   "codemirror_mode": {
    "name": "ipython",
    "version": 3
   },
   "file_extension": ".py",
   "mimetype": "text/x-python",
   "name": "python",
   "nbconvert_exporter": "python",
   "pygments_lexer": "ipython3",
   "version": "3.7.4"
  }
 },
 "nbformat": 4,
 "nbformat_minor": 2
}
